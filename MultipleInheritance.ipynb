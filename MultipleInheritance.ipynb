{
 "cells": [
  {
   "cell_type": "code",
   "execution_count": 1,
   "metadata": {},
   "outputs": [
    {
     "name": "stdout",
     "output_type": "stream",
     "text": [
      "30\n",
      "200\n",
      "0.5\n",
      "<class '__main__.Derived'>\n"
     ]
    }
   ],
   "source": [
    "#Multiple Inheritance\n",
    "class Calculation1:\n",
    "    def add(self,a,b):\n",
    "        return a+b\n",
    "\n",
    "class Calculation2:\n",
    "    def Multipy(self,a,b):\n",
    "        return a*b\n",
    "\n",
    "class Derived(Calculation1,Calculation2):\n",
    "    def divide(self,a,b):\n",
    "        return a/b\n",
    "\n",
    "d=Derived()\n",
    "print(d.add(10,20))\n",
    "print(d.Multipy(10,20))\n",
    "print(d.divide(10,20))\n",
    "print(type(d))"
   ]
  },
  {
   "cell_type": "code",
   "execution_count": null,
   "metadata": {},
   "outputs": [],
   "source": []
  }
 ],
 "metadata": {
  "kernelspec": {
   "display_name": "Python 3",
   "language": "python",
   "name": "python3"
  },
  "language_info": {
   "codemirror_mode": {
    "name": "ipython",
    "version": 3
   },
   "file_extension": ".py",
   "mimetype": "text/x-python",
   "name": "python",
   "nbconvert_exporter": "python",
   "pygments_lexer": "ipython3",
   "version": "3.7.3"
  }
 },
 "nbformat": 4,
 "nbformat_minor": 2
}
