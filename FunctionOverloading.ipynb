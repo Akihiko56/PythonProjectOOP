{
 "cells": [
  {
   "cell_type": "code",
   "execution_count": 1,
   "metadata": {},
   "outputs": [
    {
     "name": "stdout",
     "output_type": "stream",
     "text": [
      "10\n",
      "30\n",
      "60\n",
      "100\n"
     ]
    }
   ],
   "source": [
    "class Calculator:\n",
    "    # def add(a):\n",
    "    #     return a\n",
    "    \n",
    "    # def add(a,b):\n",
    "    #     return a+b\n",
    "\n",
    "    # def add(a,b,c):\n",
    "    #     return a+b+c\n",
    "\n",
    "    def add(self,a=5,b=0,c=0,d=0):\n",
    "        return a+b+c+d\n",
    "\n",
    "calc=Calculator()\n",
    "print(calc.add(10))\n",
    "print(calc.add(10,20))\n",
    "print(calc.add(10,20,30))\n",
    "print(calc.add(10,20,30,40))"
   ]
  },
  {
   "cell_type": "code",
   "execution_count": null,
   "metadata": {},
   "outputs": [],
   "source": []
  }
 ],
 "metadata": {
  "kernelspec": {
   "display_name": "Python 3",
   "language": "python",
   "name": "python3"
  },
  "language_info": {
   "codemirror_mode": {
    "name": "ipython",
    "version": 3
   },
   "file_extension": ".py",
   "mimetype": "text/x-python",
   "name": "python",
   "nbconvert_exporter": "python",
   "pygments_lexer": "ipython3",
   "version": "3.7.3"
  }
 },
 "nbformat": 4,
 "nbformat_minor": 2
}
