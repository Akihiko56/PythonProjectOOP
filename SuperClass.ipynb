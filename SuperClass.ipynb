{
 "cells": [
  {
   "cell_type": "code",
   "execution_count": 3,
   "metadata": {},
   "outputs": [
    {
     "name": "stdout",
     "output_type": "stream",
     "text": [
      "Hello My name is  Tekendra Rai. I am 21 years old. I am 5 ft in height.I am very Handsome. I am 30 kg. My father name is Prabhat Rai ..\n"
     ]
    }
   ],
   "source": [
    "class Parent:\n",
    "    def __init__(self,lastname,height,age,looks):\n",
    "        self.lastname=lastname\n",
    "        self.height=height\n",
    "        self.age=age\n",
    "        self.looks=looks\n",
    "\n",
    "    def getLastname(self):\n",
    "        return self.lastname\n",
    "    \n",
    "    def getheight(self):\n",
    "        return self.height\n",
    "    \n",
    "    def getAge(self):\n",
    "        return self.age\n",
    "    \n",
    "    def getlooks(self):\n",
    "        return self.looks\n",
    "        \n",
    "class Child(Parent):\n",
    "    def __init__(self, lastname, height, age, looks,weight,firstname):\n",
    "        super().__init__(lastname,height,age,looks)\n",
    "        self.weight=weight\n",
    "        self.firstname=firstname\n",
    "\n",
    "    def getfirstname(self):\n",
    "        return self.firstname\n",
    "    def getWeight(self):\n",
    "        return self.weight\n",
    "\n",
    "tekendra=Child(\"Rai\",\"5\",21,\"Hot\",30,\" Tekendra\")\n",
    "# print(\"Last Name : \",tekendra.getLastname())\n",
    "# print(\"Height : \",tekendra.getheight())\n",
    "# print(\"Age : \",tekendra.getAge())\n",
    "tekendra.looks=\"Handsome\"\n",
    "# print(\"Looks : \",tekendra.looks)\n",
    "# print(\"Weight : \",tekendra.getWeight())\n",
    "\n",
    "print(\"Hello My name is {0} {1}. I am {2} years old. I am {3} ft in height.I am very {4}. I am {5} kg. My father name is Prabhat Rai ..\".format(tekendra.getfirstname(),tekendra.getLastname(),tekendra.getAge(),tekendra.getheight(),tekendra.getlooks(),tekendra.getWeight()))\n"
   ]
  },
  {
   "cell_type": "code",
   "execution_count": null,
   "metadata": {},
   "outputs": [],
   "source": []
  }
 ],
 "metadata": {
  "kernelspec": {
   "display_name": "Python 3",
   "language": "python",
   "name": "python3"
  },
  "language_info": {
   "codemirror_mode": {
    "name": "ipython",
    "version": 3
   },
   "file_extension": ".py",
   "mimetype": "text/x-python",
   "name": "python",
   "nbconvert_exporter": "python",
   "pygments_lexer": "ipython3",
   "version": "3.7.3"
  }
 },
 "nbformat": 4,
 "nbformat_minor": 2
}
