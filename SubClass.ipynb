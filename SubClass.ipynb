{
 "cells": [
  {
   "cell_type": "code",
   "execution_count": 1,
   "metadata": {},
   "outputs": [
    {
     "name": "stdout",
     "output_type": "stream",
     "text": [
      "True\n",
      "False\n",
      "True\n",
      "True\n",
      "False\n",
      "True\n"
     ]
    }
   ],
   "source": [
    "class Calculation1:\n",
    "    \"\"\"\n",
    "    This class \n",
    "    calculates add value\n",
    "    and returns the value\n",
    "    after adding\n",
    "    \"\"\"\n",
    "    def add(self,a,b):\n",
    "        return a+b\n",
    "\n",
    "class Calculation2:\n",
    "    def Multipy(self,a,b):\n",
    "        return a*b\n",
    "\n",
    "class Derived(Calculation1,Calculation2):\n",
    "    def divide(self,a,b):\n",
    "        return a/b\n",
    "#issubclass(sub,sup)\n",
    "print(issubclass(Derived,Calculation1))\n",
    "print(issubclass(Calculation1,Calculation2))\n",
    "print(issubclass(Derived,Calculation2))\n",
    "\n",
    "#isInstance(obj,class)\n",
    "d=Derived()\n",
    "c=Calculation1()\n",
    "print(isinstance(d,Derived))\n",
    "print(isinstance(c,Derived))\n",
    "print(isinstance(d,Calculation2))"
   ]
  },
  {
   "cell_type": "code",
   "execution_count": null,
   "metadata": {},
   "outputs": [],
   "source": []
  }
 ],
 "metadata": {
  "kernelspec": {
   "display_name": "Python 3",
   "language": "python",
   "name": "python3"
  },
  "language_info": {
   "codemirror_mode": {
    "name": "ipython",
    "version": 3
   },
   "file_extension": ".py",
   "mimetype": "text/x-python",
   "name": "python",
   "nbconvert_exporter": "python",
   "pygments_lexer": "ipython3",
   "version": "3.7.3"
  }
 },
 "nbformat": 4,
 "nbformat_minor": 2
}
