{
 "cells": [
  {
   "cell_type": "code",
   "execution_count": 1,
   "metadata": {},
   "outputs": [
    {
     "name": "stdout",
     "output_type": "stream",
     "text": [
      "Animal Speaking\n",
      "Vau vau vau vau \n",
      "Sab khanxa \n",
      "Animal Speaking\n",
      "Sab khanxa \n",
      "Vau vau vau vau \n",
      "Sleeping\n"
     ]
    }
   ],
   "source": [
    "#Multi Level Inheritance\n",
    "class Animal:\n",
    "    def speak(self):\n",
    "        print(\"Animal Speaking\")\n",
    "\n",
    "class Dog(Animal):\n",
    "    def bark(self):\n",
    "        print(\"Vau vau vau vau \")\n",
    "\n",
    "class ChildDog(Dog):\n",
    "    def eat(self):\n",
    "        print(\"Sab khanxa \")\n",
    "\n",
    "class ChildChildDog(ChildDog):\n",
    "    def sleep(self):\n",
    "        print(\"Sleeping\")\n",
    "d=ChildDog()\n",
    "d.speak()\n",
    "d.bark()\n",
    "d.eat()\n",
    "\n",
    "chd=ChildChildDog()\n",
    "chd.speak()\n",
    "chd.eat()\n",
    "chd.bark()\n",
    "chd.sleep()"
   ]
  },
  {
   "cell_type": "code",
   "execution_count": null,
   "metadata": {},
   "outputs": [],
   "source": []
  }
 ],
 "metadata": {
  "kernelspec": {
   "display_name": "Python 3",
   "language": "python",
   "name": "python3"
  },
  "language_info": {
   "codemirror_mode": {
    "name": "ipython",
    "version": 3
   },
   "file_extension": ".py",
   "mimetype": "text/x-python",
   "name": "python",
   "nbconvert_exporter": "python",
   "pygments_lexer": "ipython3",
   "version": "3.7.3"
  }
 },
 "nbformat": 4,
 "nbformat_minor": 2
}
