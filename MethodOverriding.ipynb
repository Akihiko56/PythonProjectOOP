{
 "cells": [
  {
   "cell_type": "code",
   "execution_count": 1,
   "metadata": {},
   "outputs": [
    {
     "name": "stdout",
     "output_type": "stream",
     "text": [
      "I am doing Assignment \n",
      "Pravhat sab ko same xa tmle kasko sareko \n"
     ]
    }
   ],
   "source": [
    "class Pravhat:\n",
    "    def assignment(self):\n",
    "        print(\"I am doing Assignment \")\n",
    "\n",
    "class Tekendra(Pravhat):\n",
    "    def assignment(self):\n",
    "        super().assignment()\n",
    "        print(\"Pravhat sab ko same xa tmle kasko sareko \")\n",
    "\n",
    "teke=Tekendra()\n",
    "teke.assignment()"
   ]
  },
  {
   "cell_type": "code",
   "execution_count": null,
   "metadata": {},
   "outputs": [],
   "source": []
  }
 ],
 "metadata": {
  "kernelspec": {
   "display_name": "Python 3",
   "language": "python",
   "name": "python3"
  },
  "language_info": {
   "codemirror_mode": {
    "name": "ipython",
    "version": 3
   },
   "file_extension": ".py",
   "mimetype": "text/x-python",
   "name": "python",
   "nbconvert_exporter": "python",
   "pygments_lexer": "ipython3",
   "version": "3.7.3"
  }
 },
 "nbformat": 4,
 "nbformat_minor": 2
}
