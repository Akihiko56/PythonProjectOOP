{
 "cells": [
  {
   "cell_type": "code",
   "execution_count": 5,
   "metadata": {},
   "outputs": [
    {
     "name": "stdout",
     "output_type": "stream",
     "text": [
      "<class '__main__.mobile'>\n",
      "The Processor of MI 11 is:  snapdragon 888+\n",
      "The camera is:  108 MP\n",
      "The processor of samsung A31 is: Exynos 1110\n",
      "The camera of samsung A31 is: 48 MP\n"
     ]
    }
   ],
   "source": [
    "class mobile:\n",
    "    processor=\"snapdragon 888+\"\n",
    "    camera=108\n",
    "Redmi=mobile()\n",
    "print(type(Redmi))\n",
    "print(\"The Processor of MI 11 is: \",Redmi.processor)\n",
    "print(\"The camera is: \",Redmi.camera, \"MP\")\n",
    "samsung=mobile()\n",
    "samsung.processor=\"Exynos 1110\"\n",
    "samsung.camera=\"48 MP\"\n",
    "print(\"The processor of samsung A31 is:\",samsung.processor)\n",
    "print(\"The camera of samsung A31 is:\",samsung.camera)"
   ]
  },
  {
   "cell_type": "code",
   "execution_count": null,
   "metadata": {},
   "outputs": [],
   "source": []
  }
 ],
 "metadata": {
  "kernelspec": {
   "display_name": "Python 3",
   "language": "python",
   "name": "python3"
  },
  "language_info": {
   "codemirror_mode": {
    "name": "ipython",
    "version": 3
   },
   "file_extension": ".py",
   "mimetype": "text/x-python",
   "name": "python",
   "nbconvert_exporter": "python",
   "pygments_lexer": "ipython3",
   "version": "3.7.3"
  }
 },
 "nbformat": 4,
 "nbformat_minor": 2
}
