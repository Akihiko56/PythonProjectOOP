{
 "cells": [
  {
   "cell_type": "code",
   "execution_count": 3,
   "metadata": {},
   "outputs": [
    {
     "name": "stdout",
     "output_type": "stream",
     "text": [
      "The Processor of Redmi is  Snapdragon\n",
      "The Camera of Redmi is :  13\n",
      "The Processor of Samsung is  Quad Core \n",
      "The Camera of Samsung is :  35\n"
     ]
    }
   ],
   "source": [
    "class Mobile:\n",
    "    def __init__(self,processor,camera):\n",
    "        self.processor=processor\n",
    "        self.camera=camera\n",
    "\n",
    "    def getProcessorName(self):\n",
    "        return self.processor\n",
    "    \n",
    "    def getCamera(self):\n",
    "        return self.camera\n",
    "Redmi=Mobile(\"Snapdragon\",13)\n",
    "print(\"The Processor of Redmi is \",Redmi.processor)\n",
    "print(\"The Camera of Redmi is : \",Redmi.camera)\n",
    "\n",
    "Samsung=Mobile(\"Quad Core \",35)\n",
    "print(\"The Processor of Samsung is \",Samsung.getProcessorName())\n",
    "print(\"The Camera of Samsung is : \",Samsung.camera)"
   ]
  },
  {
   "cell_type": "code",
   "execution_count": null,
   "metadata": {},
   "outputs": [],
   "source": []
  }
 ],
 "metadata": {
  "kernelspec": {
   "display_name": "Python 3",
   "language": "python",
   "name": "python3"
  },
  "language_info": {
   "codemirror_mode": {
    "name": "ipython",
    "version": 3
   },
   "file_extension": ".py",
   "mimetype": "text/x-python",
   "name": "python",
   "nbconvert_exporter": "python",
   "pygments_lexer": "ipython3",
   "version": "3.7.3"
  }
 },
 "nbformat": 4,
 "nbformat_minor": 2
}
